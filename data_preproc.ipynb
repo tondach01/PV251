{
  "nbformat": 4,
  "nbformat_minor": 0,
  "metadata": {
    "colab": {
      "provenance": []
    },
    "kernelspec": {
      "name": "python3",
      "display_name": "Python 3"
    },
    "language_info": {
      "name": "python"
    }
  },
  "cells": [
    {
      "cell_type": "markdown",
      "source": [
        "Read the file"
      ],
      "metadata": {
        "id": "tfM6aU5ylsUR"
      }
    },
    {
      "cell_type": "code",
      "execution_count": 50,
      "metadata": {
        "id": "gRP1vHT8KbTK"
      },
      "outputs": [],
      "source": [
        "import pandas as pd\n",
        "\n",
        "df = pd.read_csv(\"1_10_seasons_tbbt.csv\")"
      ]
    },
    {
      "cell_type": "markdown",
      "source": [
        "Mutate the columns"
      ],
      "metadata": {
        "id": "-GEkQGj-lw6G"
      }
    },
    {
      "cell_type": "code",
      "source": [
        "main_characters = set(['Sheldon', 'Leonard', 'Penny', 'Howard', 'Raj', 'Bernadette', 'Amy'])\n",
        "\n",
        "df['Series'] = df.episode_name.apply(lambda x: int(x.split()[1]))\n",
        "df['EpisodeNo'] = df.episode_name.apply(lambda x: int(x.split()[3]))\n",
        "df['EpisodeName'] = df.episode_name.apply(lambda x: x.split(maxsplit=5)[5])\n",
        "df['Scene'] = df.person_scene.apply(lambda x: x == 'Scene')\n",
        "df['Character'] = df.person_scene.apply(lambda x: x if x in main_characters else 'Others')\n",
        "\n",
        "# df[['EpisodeName', 'person_scene']].groupby('person_scene').count().sort_values(by='EpisodeName', ascending=False).head(20)"
      ],
      "metadata": {
        "id": "QHRHmkH7LGcc"
      },
      "execution_count": 51,
      "outputs": []
    },
    {
      "cell_type": "markdown",
      "source": [
        "Delete unnecessary columns and rows"
      ],
      "metadata": {
        "id": "o360lNZBl1TH"
      }
    },
    {
      "cell_type": "code",
      "source": [
        "scenes = df[df['Scene'] == True].index\n",
        "\n",
        "df.drop(scenes, inplace=True)\n",
        "df.drop(columns=['episode_name', 'person_scene'], inplace=True)"
      ],
      "metadata": {
        "id": "5rxUZQIBRO2c"
      },
      "execution_count": null,
      "outputs": []
    },
    {
      "cell_type": "code",
      "source": [],
      "metadata": {
        "id": "DTNXvVXhlrBy"
      },
      "execution_count": null,
      "outputs": []
    }
  ]
}
