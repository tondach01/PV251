{
  "nbformat": 4,
  "nbformat_minor": 0,
  "metadata": {
    "colab": {
      "provenance": []
    },
    "kernelspec": {
      "name": "python3",
      "display_name": "Python 3"
    },
    "language_info": {
      "name": "python"
    }
  },
  "cells": [
    {
      "cell_type": "markdown",
      "source": [
        "Read the file"
      ],
      "metadata": {
        "id": "tfM6aU5ylsUR"
      }
    },
    {
      "cell_type": "code",
      "execution_count": 16,
      "metadata": {
        "id": "gRP1vHT8KbTK"
      },
      "outputs": [],
      "source": [
        "import pandas as pd\n",
        "\n",
        "df = pd.read_csv(\"1_10_seasons_tbbt.csv\")"
      ]
    },
    {
      "cell_type": "markdown",
      "source": [
        "Mutate the columns"
      ],
      "metadata": {
        "id": "-GEkQGj-lw6G"
      }
    },
    {
      "cell_type": "code",
      "source": [
        "main_characters = set(['Sheldon', 'Leonard', 'Penny', 'Howard', 'Raj', 'Bernadette', 'Amy'])\n",
        "\n",
        "df['Dialogue'] = df.dialogue.astype('str')\n",
        "df['Series'] = df.episode_name.apply(lambda x: int(x.split()[1]))\n",
        "df['EpisodeNo'] = df.episode_name.apply(lambda x: int(x.split()[3]))\n",
        "df['EpisodeName'] = df.episode_name.apply(lambda x: x.split(maxsplit=5)[5]).astype('str')\n",
        "df['Scene'] = df.person_scene.apply(lambda x: x == 'Scene')\n",
        "df['Character'] = df.person_scene.apply(lambda x: x if x in main_characters else 'Others').astype('category')\n",
        "\n",
        "# df[['EpisodeName', 'person_scene']].groupby('person_scene').count().sort_values(by='EpisodeName', ascending=False).head(20)"
      ],
      "metadata": {
        "id": "QHRHmkH7LGcc"
      },
      "execution_count": 17,
      "outputs": []
    },
    {
      "cell_type": "markdown",
      "source": [
        "Delete unnecessary columns and rows"
      ],
      "metadata": {
        "id": "o360lNZBl1TH"
      }
    },
    {
      "cell_type": "code",
      "source": [
        "scenes = df[df['Scene'] == True].index\n",
        "\n",
        "df.drop(scenes, inplace=True)\n",
        "df.drop(columns=['episode_name', 'person_scene', 'Scene', 'dialogue'], inplace=True)"
      ],
      "metadata": {
        "id": "5rxUZQIBRO2c"
      },
      "execution_count": 18,
      "outputs": []
    },
    {
      "cell_type": "code",
      "source": [
        "by_words = df.copy()\n",
        "by_words['Word'] = by_words.Dialogue.apply(lambda x: x.split())\n",
        "by_words = by_words.explode(column=['Word'])\n",
        "by_words.drop(columns=['Dialogue', 'EpisodeName'], inplace=True)\n",
        "by_words['Word'] = by_words['Word'].apply(lambda x: x.strip('.,:?!♪()$…“”&*+-0123456789%/<>').lower())\n",
        "by_words = pd.DataFrame({'Count': by_words.groupby(['Series', 'EpisodeNo', 'Character', 'Word']).size()}).reset_index()\n",
        "\n",
        "to_drop = by_words[(by_words['Count'] == 0) | (by_words['Word'] == '')].index\n",
        "by_words.drop(to_drop, inplace=True)\n",
        "by_words.reset_index(inplace=True, drop=True)\n",
        "by_words"
      ],
      "metadata": {
        "id": "DTNXvVXhlrBy"
      },
      "execution_count": null,
      "outputs": []
    },
    {
      "cell_type": "code",
      "source": [
        "pd.DataFrame({'count':by_words.groupby(['Character', 'Series', 'EpisodeNo']).size()}).reset_index()"
      ],
      "metadata": {
        "id": "bM-5taoo3aO-"
      },
      "execution_count": null,
      "outputs": []
    }
  ]
}
